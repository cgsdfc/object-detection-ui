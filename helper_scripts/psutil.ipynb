{
 "cells": [
  {
   "cell_type": "code",
   "execution_count": 2,
   "metadata": {},
   "outputs": [],
   "source": [
    "import psutil"
   ]
  },
  {
   "cell_type": "code",
   "execution_count": 3,
   "metadata": {},
   "outputs": [],
   "source": [
    "p=psutil.Process()"
   ]
  },
  {
   "cell_type": "code",
   "execution_count": 4,
   "metadata": {},
   "outputs": [
    {
     "data": {
      "text/plain": [
       "'/home/liao/anaconda3/bin/python3.8'"
      ]
     },
     "execution_count": 4,
     "metadata": {},
     "output_type": "execute_result"
    }
   ],
   "source": [
    "p.exe()"
   ]
  },
  {
   "cell_type": "code",
   "execution_count": 5,
   "metadata": {},
   "outputs": [
    {
     "data": {
      "text/plain": [
       "'python'"
      ]
     },
     "execution_count": 5,
     "metadata": {},
     "output_type": "execute_result"
    }
   ],
   "source": [
    "p.name()"
   ]
  },
  {
   "cell_type": "code",
   "execution_count": 6,
   "metadata": {},
   "outputs": [
    {
     "data": {
      "text/plain": [
       "'/home/liao/codes/Object_Detection_UI/helper_scripts'"
      ]
     },
     "execution_count": 6,
     "metadata": {},
     "output_type": "execute_result"
    }
   ],
   "source": [
    "p.cwd()"
   ]
  },
  {
   "cell_type": "code",
   "execution_count": 7,
   "metadata": {},
   "outputs": [
    {
     "data": {
      "text/plain": [
       "['/home/liao/anaconda3/bin/python',\n",
       " '-m',\n",
       " 'ipykernel_launcher',\n",
       " '-f',\n",
       " '/home/liao/.local/share/jupyter/runtime/kernel-9b5f589b-468e-4d52-a8d4-fba471b9ec7a.json']"
      ]
     },
     "execution_count": 7,
     "metadata": {},
     "output_type": "execute_result"
    }
   ],
   "source": [
    "p.cmdline()"
   ]
  },
  {
   "cell_type": "code",
   "execution_count": 11,
   "metadata": {},
   "outputs": [
    {
     "name": "stdout",
     "output_type": "stream",
     "text": [
      "发现残留进程：1 /sbin/init splash\n",
      "发现残留进程：2 \n",
      "发现残留进程：4 \n",
      "发现残留进程：6 \n",
      "发现残留进程：7 \n",
      "发现残留进程：8 \n",
      "发现残留进程：9 \n",
      "发现残留进程：10 \n",
      "发现残留进程：11 \n",
      "发现残留进程：12 \n",
      "发现残留进程：13 \n",
      "发现残留进程：14 \n",
      "发现残留进程：15 \n",
      "发现残留进程：16 \n",
      "发现残留进程：18 \n",
      "发现残留进程：19 \n",
      "发现残留进程：20 \n",
      "发现残留进程：21 \n",
      "发现残留进程：22 \n",
      "发现残留进程：24 \n",
      "发现残留进程：25 \n",
      "发现残留进程：26 \n",
      "发现残留进程：27 \n",
      "发现残留进程：28 \n",
      "发现残留进程：30 \n",
      "发现残留进程：31 \n",
      "发现残留进程：32 \n",
      "发现残留进程：33 \n",
      "发现残留进程：34 \n",
      "发现残留进程：38 \n",
      "发现残留进程：39 \n",
      "发现残留进程：40 \n",
      "发现残留进程：41 \n",
      "发现残留进程：42 \n",
      "发现残留进程：43 \n",
      "发现残留进程：44 \n",
      "发现残留进程：45 \n",
      "发现残留进程：46 \n",
      "发现残留进程：47 \n",
      "发现残留进程：48 \n",
      "发现残留进程：49 \n",
      "发现残留进程：50 \n",
      "发现残留进程：51 \n",
      "发现残留进程：54 \n",
      "发现残留进程：55 \n",
      "发现残留进程：56 \n",
      "发现残留进程：98 \n",
      "发现残留进程：99 \n",
      "发现残留进程：103 \n",
      "发现残留进程：112 \n",
      "发现残留进程：134 \n",
      "发现残留进程：186 \n",
      "发现残留进程：187 \n",
      "发现残留进程：188 \n",
      "发现残留进程：189 \n",
      "发现残留进程：190 \n",
      "发现残留进程：191 \n",
      "发现残留进程：192 \n",
      "发现残留进程：193 \n",
      "发现残留进程：199 \n",
      "发现残留进程：200 \n",
      "发现残留进程：201 \n",
      "发现残留进程：223 \n",
      "发现残留进程：224 \n",
      "发现残留进程：252 \n",
      "发现残留进程：263 /lib/systemd/systemd-journald\n",
      "发现残留进程：297 /lib/systemd/systemd-udevd\n",
      "发现残留进程：321 \n",
      "发现残留进程：338 \n",
      "发现残留进程：339 \n",
      "发现残留进程：367 \n",
      "发现残留进程：368 \n",
      "发现残留进程：453 \n",
      "发现残留进程：574 \n",
      "发现残留进程：575 \n",
      "发现残留进程：618 /lib/systemd/systemd-timesyncd\n",
      "发现残留进程：756 /usr/local/sunlogin/bin/oray_rundaemon -\n",
      "发现残留进程：762 avahi-daemon: running [liao.local]\n",
      "发现残留进程：765 /usr/sbin/thermald --no-daemon --dbus-en\n",
      "发现残留进程：768 /usr/lib/accountsservice/accounts-daemon\n",
      "发现残留进程：769 /usr/sbin/cupsd -l\n",
      "发现残留进程：773 /usr/sbin/cron -f\n",
      "发现残留进程：774 /usr/bin/dbus-daemon --system --address=\n",
      "发现残留进程：834 avahi-daemon: chroot helper\n",
      "发现残留进程：840 /usr/local/sunlogin/bin/sunloginclient -\n",
      "发现残留进程：843 /usr/sbin/NetworkManager --no-daemon\n",
      "发现残留进程：845 /usr/sbin/cups-browsed\n",
      "发现残留进程：846 /lib/systemd/systemd-logind\n",
      "发现残留进程：848 /usr/sbin/rsyslogd -n\n",
      "发现残留进程：850 /usr/sbin/acpid\n",
      "发现残留进程：891 /usr/sbin/lightdm\n",
      "发现残留进程：923 /usr/lib/policykit-1/polkitd --no-debug\n",
      "发现残留进程：927 /usr/sbin/irqbalance --pid=/var/run/irqb\n",
      "发现残留进程：940 /usr/lib/xorg/Xorg -core :0 -seat seat0 \n",
      "发现残留进程：953 /usr/bin/python3 /usr/share/unattended-u\n",
      "发现残留进程：976 /usr/sbin/sshd -D\n",
      "发现残留进程：986 \n",
      "发现残留进程：987 \n",
      "发现残留进程：988 \n",
      "发现残留进程：989 \n",
      "发现残留进程：990 /usr/lib/cups/notifier/dbus dbus:// \n",
      "发现残留进程：993 /usr/lib/cups/notifier/dbus dbus:// \n",
      "发现残留进程：994 /usr/lib/cups/notifier/dbus dbus:// \n",
      "发现残留进程：1003 /sbin/wpa_supplicant -u -s -O /run/wpa_s\n",
      "发现残留进程：1101 /usr/bin/whoopsie -f\n",
      "发现残留进程：1107 /sbin/agetty --noclear tty1 linux\n",
      "发现残留进程：1130 lightdm --session-child 12 19\n",
      "发现残留进程：1194 /usr/lib/rtkit/rtkit-daemon\n",
      "发现残留进程：1213 /usr/lib/upower/upowerd\n",
      "发现残留进程：1230 /usr/lib/colord/colord\n",
      "发现残留进程：1260 /lib/systemd/systemd --user\n",
      "发现残留进程：1261 (sd-pam)         \n",
      "发现残留进程：1266 /usr/bin/gnome-keyring-daemon --daemoniz\n",
      "发现残留进程：1269 /sbin/upstart --user\n",
      "发现残留进程：1349 upstart-udev-bridge --daemon --user\n",
      "发现残留进程：1360 dbus-daemon --fork --session --address=u\n",
      "发现残留进程：1372 /usr/lib/x86_64-linux-gnu/hud/window-sta\n",
      "发现残留进程：1403 upstart-dbus-bridge --daemon --session -\n",
      "发现残留进程：1406 upstart-dbus-bridge --daemon --system --\n",
      "发现残留进程：1407 upstart-file-bridge --daemon --user\n",
      "发现残留进程：1420 /usr/bin/fcitx\n",
      "发现残留进程：1426 /usr/bin/dbus-daemon --fork --print-pid \n",
      "发现残留进程：1430 /usr/bin/fcitx-dbus-watcher unix:abstrac\n",
      "发现残留进程：1437 /usr/lib/x86_64-linux-gnu/bamf/bamfdaemo\n",
      "发现残留进程：1441 /usr/lib/x86_64-linux-gnu/notify-osd\n",
      "发现残留进程：1449 /usr/lib/gvfs/gvfsd\n",
      "发现残留进程：1454 /usr/lib/gvfs/gvfsd-fuse /run/user/1000/\n",
      "发现残留进程：1466 /usr/lib/at-spi2-core/at-spi-bus-launche\n",
      "发现残留进程：1471 /usr/bin/dbus-daemon --config-file=/etc/\n",
      "发现残留进程：1474 /usr/lib/at-spi2-core/at-spi2-registryd \n",
      "发现残留进程：1479 /sbin/dhclient -d -q -sf /usr/lib/Networ\n",
      "发现残留进程：1489 /usr/sbin/dnsmasq --no-resolv --keep-in-\n",
      "发现残留进程：1490 gpg-agent --homedir /home/liao/.gnupg --\n",
      "发现残留进程：1663 /usr/lib/x86_64-linux-gnu/hud/hud-servic\n",
      "发现残留进程：1665 /usr/lib/unity-settings-daemon/unity-set\n",
      "发现残留进程：1675 /usr/lib/gnome-session/gnome-session-bin\n",
      "发现残留进程：1686 /usr/lib/x86_64-linux-gnu/unity/unity-pa\n",
      "发现残留进程：1722 /usr/bin/pulseaudio --start --log-target\n",
      "发现残留进程：1725 /usr/lib/x86_64-linux-gnu/indicator-mess\n",
      "发现残留进程：1726 /usr/lib/x86_64-linux-gnu/indicator-blue\n",
      "发现残留进程：1727 /usr/lib/x86_64-linux-gnu/indicator-powe\n",
      "发现残留进程：1734 /usr/lib/x86_64-linux-gnu/indicator-date\n",
      "发现残留进程：1735 /usr/lib/x86_64-linux-gnu/indicator-keyb\n",
      "发现残留进程：1736 /usr/lib/x86_64-linux-gnu/indicator-soun\n",
      "发现残留进程：1739 /usr/lib/x86_64-linux-gnu/indicator-prin\n",
      "发现残留进程：1740 /usr/lib/x86_64-linux-gnu/indicator-sess\n",
      "发现残留进程：1747 /usr/lib/x86_64-linux-gnu/indicator-appl\n",
      "发现残留进程：1797 /usr/lib/evolution/evolution-source-regi\n",
      "发现残留进程：1819 /usr/lib/dconf/dconf-service\n",
      "发现残留进程：1822 /sbin/dhclient -d -q -6 -N -sf /usr/lib/\n",
      "发现残留进程：1842 /usr/lib/evolution/evolution-calendar-fa\n",
      "发现残留进程：1843 compiz\n",
      "发现残留进程：1861 /usr/lib/evolution/evolution-calendar-fa\n",
      "发现残留进程：1871 /usr/lib/evolution/evolution-calendar-fa\n",
      "发现残留进程：1881 /usr/lib/evolution/evolution-addressbook\n",
      "发现残留进程：1893 /usr/lib/evolution/evolution-addressbook\n",
      "发现残留进程：1895 /usr/lib/gvfs/gvfs-udisks2-volume-monito\n",
      "发现残留进程：1904 /usr/lib/udisks2/udisksd --no-debug\n",
      "发现残留进程：1912 /usr/lib/gvfs/gvfs-goa-volume-monitor\n",
      "发现残留进程：1917 /usr/lib/gvfs/gvfs-gphoto2-volume-monito\n",
      "发现残留进程：1922 /usr/lib/gvfs/gvfs-afc-volume-monitor\n",
      "发现残留进程：1928 /usr/lib/gvfs/gvfs-mtp-volume-monitor\n",
      "发现残留进程：1942 /usr/bin/nautilus --gapplication-service\n",
      "发现残留进程：1944 /usr/lib/gvfs/gvfsd-trash --spawner :1.7\n",
      "发现残留进程：1984 /usr/lib/gvfs/gvfsd-metadata\n",
      "发现残留进程：2004 /usr/bin/gnome-software --gapplication-s\n",
      "发现残留进程：2008 /usr/lib/policykit-1-gnome/polkit-gnome-\n",
      "发现残留进程：2011 nm-applet\n",
      "发现残留进程：2020 /usr/lib/unity-settings-daemon/unity-fal\n",
      "发现残留进程：2042 /usr/lib/x86_64-linux-gnu/fwupd/fwupd\n",
      "发现残留进程：2054 /usr/share/code/code --unity-launch --en\n",
      "发现残留进程：2060 /usr/share/code/code --type=zygote --no-\n",
      "发现残留进程：2061 /usr/share/code/code --type=zygote --ena\n",
      "发现残留进程：2064 /usr/share/code/code --type=zygote --ena\n",
      "发现残留进程：2078 /usr/share/code/chrome_crashpad_handler \n",
      "发现残留进程：2087 fcitx-qimpanel\n",
      "发现残留进程：2103 /usr/libexec/xdg-desktop-portal\n",
      "发现残留进程：2111 /usr/libexec/xdg-document-portal\n",
      "发现残留进程：2118 /usr/libexec/xdg-permission-store\n",
      "发现残留进程：2130 /usr/libexec/xdg-desktop-portal-gtk\n",
      "发现残留进程：2147 /usr/share/code/code --type=utility --ut\n",
      "发现残留进程：2161 /usr/share/code/code --type=gpu-process \n",
      "发现残留进程：2185 /usr/share/code/code --type=renderer --e\n",
      "发现残留进程：2260 /usr/share/code/code --ms-enable-electro\n",
      "发现残留进程：2268 /usr/share/code/code --type=renderer --e\n",
      "发现残留进程：2293 /usr/share/code/code --ms-enable-electro\n",
      "发现残留进程：2345 /usr/share/code/code --ms-enable-electro\n",
      "发现残留进程：2379 /bin/bash\n",
      "发现残留进程：2412 zeitgeist-datahub\n",
      "发现残留进程：2427 /bin/sh -c /usr/lib/x86_64-linux-gnu/zei\n",
      "发现残留进程：2431 /usr/bin/zeitgeist-daemon\n",
      "发现残留进程：2450 /usr/lib/x86_64-linux-gnu/zeitgeist-fts\n",
      "发现残留进程：2572 \n",
      "发现残留进程：2573 \n",
      "发现残留进程：2583 \n",
      "发现残留进程：2657 /usr/share/code/code --ms-enable-electro\n",
      "发现残留进程：2817 update-notifier\n",
      "发现残留进程：3206 /usr/lib/x86_64-linux-gnu/deja-dup/deja-\n",
      "发现残留进程：4028 \n",
      "发现残留进程：4175 /usr/lib/firefox/firefox\n",
      "发现残留进程：4226 /usr/lib/firefox/firefox -contentproc -p\n",
      "发现残留进程：4266 /usr/lib/firefox/firefox -contentproc -c\n",
      "发现残留进程：4300 /usr/lib/firefox/firefox -contentproc -c\n",
      "发现残留进程：4325 /usr/lib/firefox/firefox -contentproc -c\n",
      "发现残留进程：4331 /usr/lib/firefox/firefox -contentproc -c\n",
      "发现残留进程：4343 /usr/lib/firefox/firefox -contentproc -c\n",
      "发现残留进程：4356 /usr/lib/firefox/firefox -contentproc -c\n",
      "发现残留进程：4372 /usr/lib/firefox/firefox -contentproc -c\n",
      "发现残留进程：4400 /usr/lib/firefox/firefox -contentproc -c\n",
      "发现残留进程：4446 /usr/lib/firefox/firefox -contentproc -c\n",
      "发现残留进程：4481 /usr/lib/firefox/firefox -contentproc -c\n",
      "发现残留进程：4611 /usr/lib/firefox/firefox -contentproc -p\n",
      "发现残留进程：4634 /usr/lib/speech-dispatcher-modules/sd_ci\n",
      "发现残留进程：4636 \n",
      "发现残留进程：4639 /usr/lib/speech-dispatcher-modules/sd_es\n",
      "发现残留进程：4646 /usr/lib/speech-dispatcher-modules/sd_ge\n",
      "发现残留进程：4649 /usr/lib/speech-dispatcher-modules/sd_du\n",
      "发现残留进程：4658 /usr/bin/speech-dispatcher --spawn --com\n",
      "发现残留进程：6317 /usr/lib/gvfs/gvfsd-network --spawner :1\n",
      "发现残留进程：6344 /usr/lib/gvfs/gvfsd-dnssd --spawner :1.7\n",
      "发现残留进程：8418 \n",
      "发现残留进程：8848 \n",
      "发现残留进程：8865 \n",
      "发现残留进程：8922 \n",
      "发现残留进程：9523 \n",
      "发现残留进程：10196 \n",
      "发现残留进程：10201 \n",
      "发现残留进程：10280 \n",
      "发现残留进程：10612 \n",
      "发现残留进程：11410 \n",
      "发现残留进程：11419 \n",
      "发现残留进程：11421 \n",
      "发现残留进程：11424 \n",
      "发现残留进程：11502 /usr/share/code/code --type=renderer --e\n",
      "发现残留进程：11558 /usr/share/code/code --ms-enable-electro\n",
      "发现残留进程：11588 /usr/share/code/code --type=renderer --e\n",
      "发现残留进程：11611 /usr/share/code/code --ms-enable-electro\n",
      "发现残留进程：11637 /bin/bash\n",
      "发现残留进程：11666 /usr/share/code/code --ms-enable-electro\n",
      "发现残留进程：11737 /usr/share/code/code --ms-enable-electro\n",
      "发现残留进程：11815 /home/liao/anaconda3/bin/python -m vscod\n",
      "发现残留进程：11816 /home/liao/anaconda3/bin/python -m vscod\n",
      "发现残留进程：11817 /home/liao/anaconda3/bin/python -m vscod\n",
      "发现残留进程：11878 /home/liao/anaconda3/bin/python -m ipyke\n",
      "发现残留进程：11929 \n"
     ]
    }
   ],
   "source": [
    "to_kill = []\n",
    "\n",
    "for p in psutil.process_iter(attrs=['exe', 'cwd', 'cmdline']): # 注意：不能访问所有的属性，权限问题。\n",
    "    cmdline = \" \".join(p.cmdline())[:40]\n",
    "    print(f\"发现残留进程：{p.pid} {cmdline}\")\n",
    "    to_kill.append(p)"
   ]
  }
 ],
 "metadata": {
  "interpreter": {
   "hash": "75647e41235e86f38e646d6c54743e0ab8ba1bd8bed013c40965fdd19080d338"
  },
  "kernelspec": {
   "display_name": "Python 3.8.8 ('base')",
   "language": "python",
   "name": "python3"
  },
  "language_info": {
   "codemirror_mode": {
    "name": "ipython",
    "version": 3
   },
   "file_extension": ".py",
   "mimetype": "text/x-python",
   "name": "python",
   "nbconvert_exporter": "python",
   "pygments_lexer": "ipython3",
   "version": "3.8.8"
  },
  "orig_nbformat": 4
 },
 "nbformat": 4,
 "nbformat_minor": 2
}
