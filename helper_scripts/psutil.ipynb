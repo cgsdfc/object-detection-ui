{
 "cells": [
  {
   "cell_type": "code",
   "execution_count": 1,
   "metadata": {},
   "outputs": [],
   "source": [
    "import psutil"
   ]
  },
  {
   "cell_type": "code",
   "execution_count": 2,
   "metadata": {},
   "outputs": [],
   "source": [
    "p=psutil.Process()"
   ]
  },
  {
   "cell_type": "code",
   "execution_count": 3,
   "metadata": {},
   "outputs": [
    {
     "data": {
      "text/plain": [
       "'/home/liao/anaconda3/bin/python3.8'"
      ]
     },
     "execution_count": 3,
     "metadata": {},
     "output_type": "execute_result"
    }
   ],
   "source": [
    "p.exe()"
   ]
  },
  {
   "cell_type": "code",
   "execution_count": 4,
   "metadata": {},
   "outputs": [
    {
     "data": {
      "text/plain": [
       "'python'"
      ]
     },
     "execution_count": 4,
     "metadata": {},
     "output_type": "execute_result"
    }
   ],
   "source": [
    "p.name()"
   ]
  },
  {
   "cell_type": "code",
   "execution_count": 5,
   "metadata": {},
   "outputs": [
    {
     "data": {
      "text/plain": [
       "'/home/liao/codes/Object_Detection_UI/helper_scripts'"
      ]
     },
     "execution_count": 5,
     "metadata": {},
     "output_type": "execute_result"
    }
   ],
   "source": [
    "p.cwd()"
   ]
  },
  {
   "cell_type": "code",
   "execution_count": 6,
   "metadata": {},
   "outputs": [
    {
     "data": {
      "text/plain": [
       "['/home/liao/anaconda3/bin/python',\n",
       " '-m',\n",
       " 'ipykernel_launcher',\n",
       " '-f',\n",
       " '/home/liao/.local/share/jupyter/runtime/kernel-270c449d-838b-4030-8f85-f65b5c9d971d.json']"
      ]
     },
     "execution_count": 6,
     "metadata": {},
     "output_type": "execute_result"
    }
   ],
   "source": [
    "p.cmdline()"
   ]
  },
  {
   "cell_type": "code",
   "execution_count": 7,
   "metadata": {},
   "outputs": [
    {
     "name": "stdout",
     "output_type": "stream",
     "text": [
      "发现残留进程：1 /sbin/init splash\n",
      "发现残留进程：2 \n",
      "发现残留进程：4 \n",
      "发现残留进程：6 \n",
      "发现残留进程：7 \n",
      "发现残留进程：8 \n",
      "发现残留进程：9 \n",
      "发现残留进程：10 \n",
      "发现残留进程：11 \n",
      "发现残留进程：12 \n",
      "发现残留进程：13 \n",
      "发现残留进程：14 \n",
      "发现残留进程：15 \n",
      "发现残留进程：16 \n",
      "发现残留进程：17 \n",
      "发现残留进程：18 \n",
      "发现残留进程：19 \n",
      "发现残留进程：20 \n",
      "发现残留进程：21 \n",
      "发现残留进程：22 \n",
      "发现残留进程：24 \n",
      "发现残留进程：25 \n",
      "发现残留进程：26 \n",
      "发现残留进程：27 \n",
      "发现残留进程：28 \n",
      "发现残留进程：30 \n",
      "发现残留进程：31 \n",
      "发现残留进程：32 \n",
      "发现残留进程：33 \n",
      "发现残留进程：34 \n",
      "发现残留进程：36 \n",
      "发现残留进程：38 \n",
      "发现残留进程：39 \n",
      "发现残留进程：40 \n",
      "发现残留进程：41 \n",
      "发现残留进程：42 \n",
      "发现残留进程：43 \n",
      "发现残留进程：44 \n",
      "发现残留进程：45 \n",
      "发现残留进程：46 \n",
      "发现残留进程：47 \n",
      "发现残留进程：48 \n",
      "发现残留进程：49 \n",
      "发现残留进程：50 \n",
      "发现残留进程：51 \n",
      "发现残留进程：54 \n",
      "发现残留进程：55 \n",
      "发现残留进程：56 \n",
      "发现残留进程：98 \n",
      "发现残留进程：99 \n",
      "发现残留进程：103 \n",
      "发现残留进程：112 \n",
      "发现残留进程：134 \n",
      "发现残留进程：139 \n",
      "发现残留进程：184 \n",
      "发现残留进程：185 \n",
      "发现残留进程：186 \n",
      "发现残留进程：187 \n",
      "发现残留进程：188 \n",
      "发现残留进程：189 \n",
      "发现残留进程：190 \n",
      "发现残留进程：191 \n",
      "发现残留进程：197 \n",
      "发现残留进程：219 \n",
      "发现残留进程：220 \n",
      "发现残留进程：248 \n",
      "发现残留进程：249 \n",
      "发现残留进程：262 /lib/systemd/systemd-journald\n",
      "发现残留进程：269 \n",
      "发现残留进程：290 /lib/systemd/systemd-udevd\n",
      "发现残留进程：320 \n",
      "发现残留进程：525 \n",
      "发现残留进程：526 \n",
      "发现残留进程：527 \n",
      "发现残留进程：530 \n",
      "发现残留进程：531 \n",
      "发现残留进程：544 \n",
      "发现残留进程：545 \n",
      "发现残留进程：628 /lib/systemd/systemd-timesyncd\n",
      "发现残留进程：722 /usr/sbin/cron -f\n",
      "发现残留进程：723 /usr/sbin/acpid\n",
      "发现残留进程：724 avahi-daemon: running [liao.local]\n",
      "发现残留进程：726 /usr/bin/dbus-daemon --system --address=\n",
      "发现残留进程：754 avahi-daemon: chroot helper\n",
      "发现残留进程：789 /usr/sbin/thermald --no-daemon --dbus-en\n",
      "发现残留进程：791 /usr/sbin/rsyslogd -n\n",
      "发现残留进程：793 /lib/systemd/systemd-logind\n",
      "发现残留进程：796 /usr/lib/accountsservice/accounts-daemon\n",
      "发现残留进程：797 /usr/sbin/NetworkManager --no-daemon\n",
      "发现残留进程：801 /usr/local/sunlogin/bin/oray_rundaemon -\n",
      "发现残留进程：887 /usr/sbin/irqbalance --pid=/var/run/irqb\n",
      "发现残留进程：930 /usr/sbin/lightdm\n",
      "发现残留进程：934 /usr/local/sunlogin/bin/sunloginclient -\n",
      "发现残留进程：982 /usr/lib/xorg/Xorg -core :0 -seat seat0 \n",
      "发现残留进程：990 /usr/lib/policykit-1/polkitd --no-debug\n",
      "发现残留进程：1000 \n",
      "发现残留进程：1001 \n",
      "发现残留进程：1002 \n",
      "发现残留进程：1010 /usr/bin/python3 /usr/share/unattended-u\n",
      "发现残留进程：1019 /usr/sbin/sshd -D\n",
      "发现残留进程：1042 \n",
      "发现残留进程：1043 /sbin/wpa_supplicant -u -s -O /run/wpa_s\n",
      "发现残留进程：1119 lightdm --session-child 12 19\n",
      "发现残留进程：1175 /usr/lib/rtkit/rtkit-daemon\n",
      "发现残留进程：1190 /usr/bin/whoopsie -f\n",
      "发现残留进程：1198 /sbin/agetty --noclear tty1 linux\n",
      "发现残留进程：1273 /usr/lib/upower/upowerd\n",
      "发现残留进程：1288 /usr/lib/colord/colord\n",
      "发现残留进程：1383 /lib/systemd/systemd --user\n",
      "发现残留进程：1384 (sd-pam)         \n",
      "发现残留进程：1389 /usr/bin/gnome-keyring-daemon --daemoniz\n",
      "发现残留进程：1391 /sbin/upstart --user\n",
      "发现残留进程：1471 upstart-udev-bridge --daemon --user\n",
      "发现残留进程：1481 dbus-daemon --fork --session --address=u\n",
      "发现残留进程：1493 /usr/lib/x86_64-linux-gnu/hud/window-sta\n",
      "发现残留进程：1525 upstart-dbus-bridge --daemon --session -\n",
      "发现残留进程：1527 upstart-dbus-bridge --daemon --system --\n",
      "发现残留进程：1534 /usr/bin/fcitx\n",
      "发现残留进程：1540 upstart-file-bridge --daemon --user\n",
      "发现残留进程：1548 /usr/lib/x86_64-linux-gnu/bamf/bamfdaemo\n",
      "发现残留进程：1555 /usr/bin/dbus-daemon --fork --print-pid \n",
      "发现残留进程：1559 /usr/bin/fcitx-dbus-watcher unix:abstrac\n",
      "发现残留进程：1563 /usr/lib/gvfs/gvfsd\n",
      "发现残留进程：1570 /usr/lib/gvfs/gvfsd-fuse /run/user/1000/\n",
      "发现残留进程：1581 /usr/lib/x86_64-linux-gnu/notify-osd\n",
      "发现残留进程：1590 gpg-agent --homedir /home/liao/.gnupg --\n",
      "发现残留进程：1600 /usr/lib/x86_64-linux-gnu/hud/hud-servic\n",
      "发现残留进程：1602 /usr/lib/unity-settings-daemon/unity-set\n",
      "发现残留进程：1612 /usr/lib/at-spi2-core/at-spi-bus-launche\n",
      "发现残留进程：1613 /usr/lib/gnome-session/gnome-session-bin\n",
      "发现残留进程：1626 /usr/lib/x86_64-linux-gnu/unity/unity-pa\n",
      "发现残留进程：1629 /usr/bin/dbus-daemon --config-file=/etc/\n",
      "发现残留进程：1635 /usr/lib/at-spi2-core/at-spi2-registryd \n",
      "发现残留进程：1665 /usr/lib/x86_64-linux-gnu/indicator-mess\n",
      "发现残留进程：1666 /usr/lib/x86_64-linux-gnu/indicator-blue\n",
      "发现残留进程：1667 /usr/lib/x86_64-linux-gnu/indicator-powe\n",
      "发现残留进程：1668 /usr/lib/x86_64-linux-gnu/indicator-date\n",
      "发现残留进程：1673 /usr/lib/x86_64-linux-gnu/indicator-keyb\n",
      "发现残留进程：1674 /usr/lib/x86_64-linux-gnu/indicator-soun\n",
      "发现残留进程：1675 /usr/lib/x86_64-linux-gnu/indicator-prin\n",
      "发现残留进程：1682 /usr/lib/x86_64-linux-gnu/indicator-sess\n",
      "发现残留进程：1687 /usr/lib/x86_64-linux-gnu/indicator-appl\n",
      "发现残留进程：1718 /usr/bin/pulseaudio --start --log-target\n",
      "发现残留进程：1748 /usr/lib/evolution/evolution-source-regi\n",
      "发现残留进程：1760 /usr/lib/dconf/dconf-service\n",
      "发现残留进程：1766 /usr/lib/evolution/evolution-calendar-fa\n",
      "发现残留进程：1776 compiz\n",
      "发现残留进程：1782 /usr/lib/evolution/evolution-calendar-fa\n",
      "发现残留进程：1794 /usr/lib/evolution/evolution-calendar-fa\n",
      "发现残留进程：1808 /usr/lib/evolution/evolution-addressbook\n",
      "发现残留进程：1820 /usr/lib/evolution/evolution-addressbook\n",
      "发现残留进程：1837 /usr/lib/gvfs/gvfs-udisks2-volume-monito\n",
      "发现残留进程：1840 /usr/lib/udisks2/udisksd --no-debug\n",
      "发现残留进程：1848 /usr/lib/gvfs/gvfs-goa-volume-monitor\n",
      "发现残留进程：1853 /usr/lib/gvfs/gvfs-gphoto2-volume-monito\n",
      "发现残留进程：1858 /usr/lib/gvfs/gvfs-afc-volume-monitor\n",
      "发现残留进程：1864 /usr/lib/gvfs/gvfs-mtp-volume-monitor\n",
      "发现残留进程：1886 /usr/bin/nautilus --gapplication-service\n",
      "发现残留进程：1888 /usr/lib/gvfs/gvfsd-trash --spawner :1.6\n",
      "发现残留进程：1916 /usr/bin/gnome-software --gapplication-s\n",
      "发现残留进程：1921 /usr/lib/policykit-1-gnome/polkit-gnome-\n",
      "发现残留进程：1924 nm-applet\n",
      "发现残留进程：1932 /usr/lib/unity-settings-daemon/unity-fal\n",
      "发现残留进程：1958 /usr/lib/x86_64-linux-gnu/fwupd/fwupd\n",
      "发现残留进程：1964 /usr/lib/gvfs/gvfsd-metadata\n",
      "发现残留进程：1974 fcitx-qimpanel\n",
      "发现残留进程：1995 /bin/sh -c /usr/lib/x86_64-linux-gnu/zei\n",
      "发现残留进程：1999 /usr/bin/zeitgeist-daemon\n",
      "发现残留进程：2006 /usr/lib/x86_64-linux-gnu/zeitgeist-fts\n",
      "发现残留进程：2008 zeitgeist-datahub\n",
      "发现残留进程：2085 update-notifier\n",
      "发现残留进程：2112 /usr/lib/x86_64-linux-gnu/deja-dup/deja-\n",
      "发现残留进程：2202 /usr/sbin/cupsd -l\n",
      "发现残留进程：2203 /usr/sbin/cups-browsed\n",
      "发现残留进程：2204 /usr/lib/cups/notifier/dbus dbus:// \n",
      "发现残留进程：2205 /usr/lib/cups/notifier/dbus dbus:// \n",
      "发现残留进程：2206 /usr/lib/cups/notifier/dbus dbus:// \n",
      "发现残留进程：2207 /usr/lib/cups/notifier/dbus dbus:// \n",
      "发现残留进程：2208 /usr/lib/cups/notifier/dbus dbus:// \n",
      "发现残留进程：2260 \n",
      "发现残留进程：2284 \n",
      "发现残留进程：2353 /usr/lib/gvfs/gvfsd-network --spawner :1\n",
      "发现残留进程：2501 /usr/lib/gvfs/gvfsd-dnssd --spawner :1.6\n",
      "发现残留进程：2584 /usr/lib/firefox/firefox\n",
      "发现残留进程：2637 /usr/lib/firefox/firefox -contentproc -p\n",
      "发现残留进程：2674 \n",
      "发现残留进程：2675 \n",
      "发现残留进程：2676 \n",
      "发现残留进程：2685 /usr/lib/firefox/firefox -contentproc -c\n",
      "发现残留进程：2741 /usr/lib/firefox/firefox -contentproc -c\n",
      "发现残留进程：2756 /usr/lib/firefox/firefox -contentproc -c\n",
      "发现残留进程：2762 /usr/lib/firefox/firefox -contentproc -c\n",
      "发现残留进程：2782 /usr/lib/firefox/firefox -contentproc -c\n",
      "发现残留进程：2793 /usr/lib/firefox/firefox -contentproc -c\n",
      "发现残留进程：2808 /usr/lib/firefox/firefox -contentproc -c\n",
      "发现残留进程：2821 /usr/lib/firefox/firefox -contentproc -c\n",
      "发现残留进程：2881 /usr/lib/firefox/firefox -contentproc -c\n",
      "发现残留进程：2919 /usr/lib/firefox/firefox -contentproc -c\n",
      "发现残留进程：3071 \n",
      "发现残留进程：3077 \n",
      "发现残留进程：3081 \n",
      "发现残留进程：3106 \n",
      "发现残留进程：3108 /usr/share/code/code --unity-launch --en\n",
      "发现残留进程：3113 /usr/share/code/code --type=zygote --no-\n",
      "发现残留进程：3114 /usr/share/code/code --type=zygote --ena\n",
      "发现残留进程：3116 /usr/share/code/code --type=zygote --ena\n",
      "发现残留进程：3135 /usr/share/code/chrome_crashpad_handler \n",
      "发现残留进程：3153 /usr/libexec/xdg-desktop-portal\n",
      "发现残留进程：3158 /usr/libexec/xdg-document-portal\n",
      "发现残留进程：3163 /usr/libexec/xdg-permission-store\n",
      "发现残留进程：3181 /usr/libexec/xdg-desktop-portal-gtk\n",
      "发现残留进程：3197 /usr/share/code/code --type=gpu-process \n",
      "发现残留进程：3199 /usr/share/code/code --type=utility --ut\n",
      "发现残留进程：3225 /usr/share/code/code --type=renderer --e\n",
      "发现残留进程：3236 /usr/share/code/code --type=renderer --e\n",
      "发现残留进程：3290 /usr/share/code/code --ms-enable-electro\n",
      "发现残留进程：3299 /usr/share/code/code --ms-enable-electro\n",
      "发现残留进程：3315 /usr/share/code/code --type=renderer --e\n",
      "发现残留进程：3334 /usr/share/code/code --ms-enable-electro\n",
      "发现残留进程：3385 /usr/share/code/code --ms-enable-electro\n",
      "发现残留进程：3386 /usr/share/code/code --ms-enable-electro\n",
      "发现残留进程：3446 /bin/bash\n",
      "发现残留进程：3577 /home/liao/anaconda3/bin/python -m vscod\n",
      "发现残留进程：3578 /home/liao/anaconda3/bin/python -m vscod\n",
      "发现残留进程：3579 /home/liao/anaconda3/bin/python -m vscod\n",
      "发现残留进程：3585 \n",
      "发现残留进程：3586 \n",
      "发现残留进程：3589 \n",
      "发现残留进程：3716 /usr/share/code/code --ms-enable-electro\n",
      "发现残留进程：3805 /usr/sbin/dnsmasq --no-resolv --keep-in-\n",
      "发现残留进程：3862 /usr/bin/python3 /usr/sbin/aptd\n",
      "发现残留进程：4242 /usr/share/code/code --ms-enable-electro\n",
      "发现残留进程：4403 /bin/bash\n",
      "发现残留进程：4502 /usr/lib/gnome-terminal/gnome-terminal-s\n",
      "发现残留进程：4507 bash\n",
      "发现残留进程：5162 watch -n 1 nvidia-smi\n",
      "发现残留进程：6082 \n",
      "发现残留进程：6184 /sbin/dhclient -d -q -sf /usr/lib/Networ\n",
      "发现残留进程：6627 \n",
      "发现残留进程：6675 python train.py cfg/fewtune_nwpu_10shot.\n",
      "发现残留进程：6683 \n",
      "发现残留进程：6735 python train.py cfg/fewtune_nwpu_10shot.\n",
      "发现残留进程：6736 python train.py cfg/fewtune_nwpu_10shot.\n",
      "发现残留进程：6737 python train.py cfg/fewtune_nwpu_10shot.\n",
      "发现残留进程：6738 python train.py cfg/fewtune_nwpu_10shot.\n",
      "发现残留进程：6739 python train.py cfg/fewtune_nwpu_10shot.\n",
      "发现残留进程：6740 python train.py cfg/fewtune_nwpu_10shot.\n",
      "发现残留进程：6741 python train.py cfg/fewtune_nwpu_10shot.\n",
      "发现残留进程：6742 python train.py cfg/fewtune_nwpu_10shot.\n",
      "发现残留进程：6743 python train.py cfg/fewtune_nwpu_10shot.\n",
      "发现残留进程：6744 python train.py cfg/fewtune_nwpu_10shot.\n",
      "发现残留进程：6746 python train.py cfg/fewtune_nwpu_10shot.\n",
      "发现残留进程：6747 python train.py cfg/fewtune_nwpu_10shot.\n",
      "发现残留进程：6748 python train.py cfg/fewtune_nwpu_10shot.\n",
      "发现残留进程：6749 python train.py cfg/fewtune_nwpu_10shot.\n",
      "发现残留进程：6750 python train.py cfg/fewtune_nwpu_10shot.\n",
      "发现残留进程：6751 python train.py cfg/fewtune_nwpu_10shot.\n",
      "发现残留进程：6752 python train.py cfg/fewtune_nwpu_10shot.\n",
      "发现残留进程：6753 python train.py cfg/fewtune_nwpu_10shot.\n",
      "发现残留进程：6754 python train.py cfg/fewtune_nwpu_10shot.\n",
      "发现残留进程：6755 python train.py cfg/fewtune_nwpu_10shot.\n",
      "发现残留进程：6885 bash\n",
      "发现残留进程：7003 \n",
      "发现残留进程：7204 git fetch\n",
      "发现残留进程：7205 ssh git@gitee.com git-upload-pack 'cgsdf\n",
      "发现残留进程：7294 \n",
      "发现残留进程：7346 /usr/share/code/code --ms-enable-electro\n",
      "发现残留进程：7360 /usr/share/code/code --type=renderer --e\n",
      "发现残留进程：7396 /home/liao/anaconda3/bin/python -m ipyke\n"
     ]
    }
   ],
   "source": [
    "to_kill = []\n",
    "\n",
    "for p in psutil.process_iter(attrs=['exe', 'cwd', 'cmdline']): # 注意：不能访问所有的属性，权限问题。\n",
    "    cmdline = \" \".join(p.cmdline())[:40]\n",
    "    print(f\"发现残留进程：{p.pid} {cmdline}\")\n",
    "    to_kill.append(p)"
   ]
  },
  {
   "cell_type": "code",
   "execution_count": 8,
   "metadata": {},
   "outputs": [
    {
     "data": {
      "text/plain": [
       "psutil.AccessDenied"
      ]
     },
     "execution_count": 8,
     "metadata": {},
     "output_type": "execute_result"
    }
   ],
   "source": [
    "psutil.AccessDenied"
   ]
  },
  {
   "cell_type": "code",
   "execution_count": 9,
   "metadata": {},
   "outputs": [
    {
     "data": {
      "text/plain": [
       "<Signals.SIGINT: 2>"
      ]
     },
     "execution_count": 9,
     "metadata": {},
     "output_type": "execute_result"
    }
   ],
   "source": [
    "import signal\n",
    "\n",
    "signal.SIGINT"
   ]
  }
 ],
 "metadata": {
  "interpreter": {
   "hash": "75647e41235e86f38e646d6c54743e0ab8ba1bd8bed013c40965fdd19080d338"
  },
  "kernelspec": {
   "display_name": "Python 3.8.8 ('base')",
   "language": "python",
   "name": "python3"
  },
  "language_info": {
   "codemirror_mode": {
    "name": "ipython",
    "version": 3
   },
   "file_extension": ".py",
   "mimetype": "text/x-python",
   "name": "python",
   "nbconvert_exporter": "python",
   "pygments_lexer": "ipython3",
   "version": "3.8.8"
  },
  "orig_nbformat": 4
 },
 "nbformat": 4,
 "nbformat_minor": 2
}
