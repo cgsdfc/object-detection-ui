{
 "cells": [
  {
   "cell_type": "code",
   "execution_count": 10,
   "metadata": {},
   "outputs": [],
   "source": [
    "from pathlib import Path as P"
   ]
  },
  {
   "cell_type": "code",
   "execution_count": 11,
   "metadata": {},
   "outputs": [],
   "source": [
    "result_dir=P('/home/liao/codes/Object_Detection_UI/input_images/10shot')"
   ]
  },
  {
   "cell_type": "code",
   "execution_count": 12,
   "metadata": {},
   "outputs": [],
   "source": [
    "result_files=list(result_dir.glob('*.jpg'))"
   ]
  },
  {
   "cell_type": "code",
   "execution_count": 13,
   "metadata": {
    "collapsed": true
   },
   "outputs": [
    {
     "data": {
      "text/plain": [
       "[PosixPath('/home/liao/codes/Object_Detection_UI/input_images/10shot/611__1__0___0_nwpu_p_10shot_novel0_neg0.jpg'),\n",
       " PosixPath('/home/liao/codes/Object_Detection_UI/input_images/10shot/573__1__0___0_nwpu_p_10shot_novel0_neg0.jpg'),\n",
       " PosixPath('/home/liao/codes/Object_Detection_UI/input_images/10shot/454__1__0___0_nwpu_p_10shot_novel0_neg0.jpg'),\n",
       " PosixPath('/home/liao/codes/Object_Detection_UI/input_images/10shot/470__1__0___0_nwpu_p_10shot_novel0_neg0.jpg'),\n",
       " PosixPath('/home/liao/codes/Object_Detection_UI/input_images/10shot/488__1__19___0_nwpu_p_10shot_novel0_neg0.jpg'),\n",
       " PosixPath('/home/liao/codes/Object_Detection_UI/input_images/10shot/590__1__0___0_nwpu_p_10shot_novel0_neg0.jpg'),\n",
       " PosixPath('/home/liao/codes/Object_Detection_UI/input_images/10shot/649__1__0___0_nwpu_p_10shot_novel0_neg0.jpg'),\n",
       " PosixPath('/home/liao/codes/Object_Detection_UI/input_images/10shot/550__1__152___0_nwpu_p_10shot_novel0_neg0.jpg'),\n",
       " PosixPath('/home/liao/codes/Object_Detection_UI/input_images/10shot/646__1__0___0_nwpu_p_10shot_novel0_neg0.jpg'),\n",
       " PosixPath('/home/liao/codes/Object_Detection_UI/input_images/10shot/510__1__0___0_nwpu_p_10shot_novel0_neg0.jpg'),\n",
       " PosixPath('/home/liao/codes/Object_Detection_UI/input_images/10shot/634__1__185___0_nwpu_p_10shot_novel0_neg0.jpg'),\n",
       " PosixPath('/home/liao/codes/Object_Detection_UI/input_images/10shot/481__1__0___0_nwpu_p_10shot_novel0_neg0.jpg'),\n",
       " PosixPath('/home/liao/codes/Object_Detection_UI/input_images/10shot/465__1__0___0_nwpu_p_10shot_novel0_neg0.jpg'),\n",
       " PosixPath('/home/liao/codes/Object_Detection_UI/input_images/10shot/468__1__0___0_nwpu_p_10shot_novel0_neg0.jpg'),\n",
       " PosixPath('/home/liao/codes/Object_Detection_UI/input_images/10shot/472__1__0___0_nwpu_p_10shot_novel0_neg0.jpg'),\n",
       " PosixPath('/home/liao/codes/Object_Detection_UI/input_images/10shot/456__1__0___0_nwpu_p_10shot_novel0_neg0.jpg'),\n",
       " PosixPath('/home/liao/codes/Object_Detection_UI/input_images/10shot/647__1__133___0_nwpu_p_10shot_novel0_neg0.jpg'),\n",
       " PosixPath('/home/liao/codes/Object_Detection_UI/input_images/10shot/459__1__0___0_nwpu_p_10shot_novel0_neg0.jpg'),\n",
       " PosixPath('/home/liao/codes/Object_Detection_UI/input_images/10shot/618__1__0___0_nwpu_p_10shot_novel0_neg0.jpg'),\n",
       " PosixPath('/home/liao/codes/Object_Detection_UI/input_images/10shot/526__1__0___0_nwpu_p_10shot_novel0_neg0.jpg'),\n",
       " PosixPath('/home/liao/codes/Object_Detection_UI/input_images/10shot/502__1__0___0_nwpu_p_10shot_novel0_neg0.jpg'),\n",
       " PosixPath('/home/liao/codes/Object_Detection_UI/input_images/10shot/567__1__0___0_nwpu_p_10shot_novel0_neg0.jpg'),\n",
       " PosixPath('/home/liao/codes/Object_Detection_UI/input_images/10shot/439__1__128___0_nwpu_p_10shot_novel0_neg0.jpg'),\n",
       " PosixPath('/home/liao/codes/Object_Detection_UI/input_images/10shot/507__1__0___0_nwpu_p_10shot_novel0_neg0.jpg'),\n",
       " PosixPath('/home/liao/codes/Object_Detection_UI/input_images/10shot/448__1__128___0_nwpu_p_10shot_novel0_neg0.jpg'),\n",
       " PosixPath('/home/liao/codes/Object_Detection_UI/input_images/10shot/495__1__0___0_nwpu_p_10shot_novel0_neg0.jpg'),\n",
       " PosixPath('/home/liao/codes/Object_Detection_UI/input_images/10shot/539__1__0___0_nwpu_p_10shot_novel0_neg0.jpg'),\n",
       " PosixPath('/home/liao/codes/Object_Detection_UI/input_images/10shot/547__1__0___0_nwpu_p_10shot_novel0_neg0.jpg'),\n",
       " PosixPath('/home/liao/codes/Object_Detection_UI/input_images/10shot/494__1__0___0_nwpu_p_10shot_novel0_neg0.jpg'),\n",
       " PosixPath('/home/liao/codes/Object_Detection_UI/input_images/10shot/486__1__0___0_nwpu_p_10shot_novel0_neg0.jpg'),\n",
       " PosixPath('/home/liao/codes/Object_Detection_UI/input_images/10shot/510__1__61___0_nwpu_p_10shot_novel0_neg0.jpg'),\n",
       " PosixPath('/home/liao/codes/Object_Detection_UI/input_images/10shot/647__1__0___0_nwpu_p_10shot_novel0_neg0.jpg'),\n",
       " PosixPath('/home/liao/codes/Object_Detection_UI/input_images/10shot/550__1__0___0_nwpu_p_10shot_novel0_neg0.jpg'),\n",
       " PosixPath('/home/liao/codes/Object_Detection_UI/input_images/10shot/450__1__0___0_nwpu_p_10shot_novel0_neg0.jpg'),\n",
       " PosixPath('/home/liao/codes/Object_Detection_UI/input_images/10shot/451__1__0___0_nwpu_p_10shot_novel0_neg0.jpg'),\n",
       " PosixPath('/home/liao/codes/Object_Detection_UI/input_images/10shot/552__1__0___0_nwpu_p_10shot_novel0_neg0.jpg'),\n",
       " PosixPath('/home/liao/codes/Object_Detection_UI/input_images/10shot/599__1__0___0_nwpu_p_10shot_novel0_neg0.jpg'),\n",
       " PosixPath('/home/liao/codes/Object_Detection_UI/input_images/10shot/508__1__0___0_nwpu_p_10shot_novel0_neg0.jpg'),\n",
       " PosixPath('/home/liao/codes/Object_Detection_UI/input_images/10shot/541__1__0___0_nwpu_p_10shot_novel0_neg0.jpg'),\n",
       " PosixPath('/home/liao/codes/Object_Detection_UI/input_images/10shot/486__1__159___0_nwpu_p_10shot_novel0_neg0.jpg'),\n",
       " PosixPath('/home/liao/codes/Object_Detection_UI/input_images/10shot/583__1__0___0_nwpu_p_10shot_novel0_neg0.jpg'),\n",
       " PosixPath('/home/liao/codes/Object_Detection_UI/input_images/10shot/470__1__113___0_nwpu_p_10shot_novel0_neg0.jpg'),\n",
       " PosixPath('/home/liao/codes/Object_Detection_UI/input_images/10shot/537__1__0___0_nwpu_p_10shot_novel0_neg0.jpg'),\n",
       " PosixPath('/home/liao/codes/Object_Detection_UI/input_images/10shot/566__1__0___0_nwpu_p_10shot_novel0_neg0.jpg'),\n",
       " PosixPath('/home/liao/codes/Object_Detection_UI/input_images/10shot/448__1__0___0_nwpu_p_10shot_novel0_neg0.jpg'),\n",
       " PosixPath('/home/liao/codes/Object_Detection_UI/input_images/10shot/634__1__0___0_nwpu_p_10shot_novel0_neg0.jpg'),\n",
       " PosixPath('/home/liao/codes/Object_Detection_UI/input_images/10shot/607__1__0___0_nwpu_p_10shot_novel0_neg0.jpg'),\n",
       " PosixPath('/home/liao/codes/Object_Detection_UI/input_images/10shot/567__1__665___0_nwpu_p_10shot_novel0_neg0.jpg'),\n",
       " PosixPath('/home/liao/codes/Object_Detection_UI/input_images/10shot/439__1__0___0_nwpu_p_10shot_novel0_neg0.jpg'),\n",
       " PosixPath('/home/liao/codes/Object_Detection_UI/input_images/10shot/641__1__0___0_nwpu_p_10shot_novel0_neg0.jpg')]"
      ]
     },
     "execution_count": 13,
     "metadata": {},
     "output_type": "execute_result"
    }
   ],
   "source": [
    "result_files"
   ]
  },
  {
   "cell_type": "code",
   "execution_count": 14,
   "metadata": {},
   "outputs": [],
   "source": [
    "lookup_dir=P('/home/liao/codes/FSODM/dataset/NWPU/evaluation/images')"
   ]
  },
  {
   "cell_type": "code",
   "execution_count": 15,
   "metadata": {},
   "outputs": [],
   "source": [
    "f=result_files[0]"
   ]
  },
  {
   "cell_type": "code",
   "execution_count": 16,
   "metadata": {},
   "outputs": [
    {
     "data": {
      "text/plain": [
       "'611__1__0___0_nwpu_p_10shot_novel0_neg0.jpg'"
      ]
     },
     "execution_count": 16,
     "metadata": {},
     "output_type": "execute_result"
    }
   ],
   "source": [
    "f.name"
   ]
  },
  {
   "cell_type": "code",
   "execution_count": 17,
   "metadata": {},
   "outputs": [],
   "source": [
    "def strip_suffix(p: P):\n",
    "    stem = p.stem.replace('_nwpu_p_10shot_novel0_neg0', '')\n",
    "    return p.with_stem(stem)"
   ]
  },
  {
   "cell_type": "code",
   "execution_count": 18,
   "metadata": {},
   "outputs": [
    {
     "data": {
      "text/plain": [
       "PosixPath('/home/liao/codes/Object_Detection_UI/input_images/10shot/611__1__0___0.jpg')"
      ]
     },
     "execution_count": 18,
     "metadata": {},
     "output_type": "execute_result"
    }
   ],
   "source": [
    "strip_suffix(f)"
   ]
  },
  {
   "cell_type": "code",
   "execution_count": 27,
   "metadata": {},
   "outputs": [],
   "source": [
    "def lookup_path(f):\n",
    "    f = strip_suffix(f)\n",
    "    f = lookup_dir/f.name\n",
    "    return f"
   ]
  },
  {
   "cell_type": "code",
   "execution_count": 28,
   "metadata": {},
   "outputs": [
    {
     "data": {
      "text/plain": [
       "PosixPath('/home/liao/codes/FSODM/dataset/NWPU/evaluation/images/611__1__0___0.jpg')"
      ]
     },
     "execution_count": 28,
     "metadata": {},
     "output_type": "execute_result"
    }
   ],
   "source": [
    "p=lookup_path(f)\n",
    "p"
   ]
  },
  {
   "cell_type": "code",
   "execution_count": 29,
   "metadata": {},
   "outputs": [
    {
     "data": {
      "text/plain": [
       "True"
      ]
     },
     "execution_count": 29,
     "metadata": {},
     "output_type": "execute_result"
    }
   ],
   "source": [
    "p.exists()"
   ]
  },
  {
   "cell_type": "code",
   "execution_count": 30,
   "metadata": {},
   "outputs": [],
   "source": [
    "new_files = list(map(lookup_path, result_files))"
   ]
  },
  {
   "cell_type": "code",
   "execution_count": 32,
   "metadata": {},
   "outputs": [
    {
     "data": {
      "text/plain": [
       "True"
      ]
     },
     "execution_count": 32,
     "metadata": {},
     "output_type": "execute_result"
    }
   ],
   "source": [
    "all(map(P.exists, new_files))"
   ]
  },
  {
   "cell_type": "code",
   "execution_count": 33,
   "metadata": {},
   "outputs": [],
   "source": [
    "output_dir=P('/home/liao/codes/Object_Detection_UI/output_images')"
   ]
  }
 ],
 "metadata": {
  "interpreter": {
   "hash": "75647e41235e86f38e646d6c54743e0ab8ba1bd8bed013c40965fdd19080d338"
  },
  "kernelspec": {
   "display_name": "Python 3 (ipykernel)",
   "language": "python",
   "name": "python3"
  },
  "language_info": {
   "codemirror_mode": {
    "name": "ipython",
    "version": 3
   },
   "file_extension": ".py",
   "mimetype": "text/x-python",
   "name": "python",
   "nbconvert_exporter": "python",
   "pygments_lexer": "ipython3",
   "version": "3.9.12"
  }
 },
 "nbformat": 4,
 "nbformat_minor": 2
}
