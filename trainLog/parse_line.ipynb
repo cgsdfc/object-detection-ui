{
 "cells": [
  {
   "cell_type": "code",
   "execution_count": 12,
   "metadata": {},
   "outputs": [],
   "source": [
    "logline='216012: nGT 17, precision 0.391753, recall50 0.941176, recall75 0.705882, cls_acc 1.000000, loss: x 0.023144, y 0.016024, w 0.069672, h 0.040708, conf 0.366697, cls 0.002815, total 0.519061'"
   ]
  },
  {
   "cell_type": "code",
   "execution_count": 13,
   "metadata": {},
   "outputs": [
    {
     "data": {
      "text/plain": [
       "['216012: nGT 17',\n",
       " 'precision 0.391753',\n",
       " 'recall50 0.941176',\n",
       " 'recall75 0.705882',\n",
       " 'cls_acc 1.000000',\n",
       " 'loss: x 0.023144',\n",
       " 'y 0.016024',\n",
       " 'w 0.069672',\n",
       " 'h 0.040708',\n",
       " 'conf 0.366697',\n",
       " 'cls 0.002815',\n",
       " 'total 0.519061']"
      ]
     },
     "execution_count": 13,
     "metadata": {},
     "output_type": "execute_result"
    }
   ],
   "source": [
    "logline.split(', ')"
   ]
  },
  {
   "cell_type": "code",
   "execution_count": 14,
   "metadata": {},
   "outputs": [],
   "source": [
    "class LoglineParseResult:\n",
    "    precision = None\n",
    "    recall50 = None\n",
    "    recall75 = None\n",
    "    cls_acc = None\n",
    "    loss_x = None\n",
    "    loss_y = None\n",
    "    loss_w = None\n",
    "    loss_h = None\n",
    "    cls = None\n",
    "    total = None\n",
    "    conf = None\n",
    "    \n",
    "def parse_logline(line: str):\n",
    "    line = logline.split(\", \")\n",
    "    ans = LoglineParseResult()\n",
    "    ans.precision = float(line[1].split()[-1])\n",
    "    ans.recall50 = float(line[2].split()[-1])\n",
    "    ans.recall75 = float(line[3].split()[-1])\n",
    "    ans.cls_acc = float(line[4].split()[-1])\n",
    "\n",
    "    ans.loss_x = float(line[5].split()[-1])\n",
    "    ans.loss_y = float(line[6].split()[-1])\n",
    "    ans.loss_w = float(line[7].split()[-1])\n",
    "    ans.loss_h = float(line[8].split()[-1])\n",
    "\n",
    "    ans.conf = float(line[9].split()[-1])\n",
    "    ans.cls = float(line[10].split()[-1])\n",
    "    ans.total = float(line[11].split()[-1])\n",
    "    return ans\n"
   ]
  },
  {
   "cell_type": "code",
   "execution_count": 16,
   "metadata": {},
   "outputs": [],
   "source": [
    "data=parse_logline(logline)"
   ]
  },
  {
   "cell_type": "code",
   "execution_count": 17,
   "metadata": {},
   "outputs": [
    {
     "data": {
      "text/plain": [
       "{'precision': 0.391753,\n",
       " 'recall50': 0.941176,\n",
       " 'recall75': 0.705882,\n",
       " 'cls_acc': 1.0,\n",
       " 'loss_x': 0.023144,\n",
       " 'loss_y': 0.016024,\n",
       " 'loss_w': 0.069672,\n",
       " 'loss_h': 0.040708,\n",
       " 'conf': 0.366697,\n",
       " 'cls': 0.002815,\n",
       " 'total': 0.519061}"
      ]
     },
     "execution_count": 17,
     "metadata": {},
     "output_type": "execute_result"
    }
   ],
   "source": [
    "data.__dict__"
   ]
  },
  {
   "cell_type": "code",
   "execution_count": 18,
   "metadata": {},
   "outputs": [
    {
     "data": {
      "text/plain": [
       "0.5190600000000001"
      ]
     },
     "execution_count": 18,
     "metadata": {},
     "output_type": "execute_result"
    }
   ],
   "source": [
    "data.loss_x+data.loss_y+data.loss_h+data.loss_w+data.cls+data.conf"
   ]
  }
 ],
 "metadata": {
  "interpreter": {
   "hash": "75647e41235e86f38e646d6c54743e0ab8ba1bd8bed013c40965fdd19080d338"
  },
  "kernelspec": {
   "display_name": "Python 3.8.8 ('base')",
   "language": "python",
   "name": "python3"
  },
  "language_info": {
   "codemirror_mode": {
    "name": "ipython",
    "version": 3
   },
   "file_extension": ".py",
   "mimetype": "text/x-python",
   "name": "python",
   "nbconvert_exporter": "python",
   "pygments_lexer": "ipython3",
   "version": "3.8.8"
  },
  "orig_nbformat": 4
 },
 "nbformat": 4,
 "nbformat_minor": 2
}
